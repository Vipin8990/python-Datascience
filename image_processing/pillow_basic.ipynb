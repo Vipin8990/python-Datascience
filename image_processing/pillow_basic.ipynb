{
 "cells": [
  {
   "cell_type": "code",
   "execution_count": null,
   "metadata": {},
   "outputs": [],
   "source": []
  }
 ],
 "metadata": {
  "kernelspec": {
   "display_name": "base",
   "language": "python",
   "name": "python3"
  },
  "language_info": {
   "name": "python",
   "version": "3.9.15 (main, Nov 24 2022, 14:39:17) [MSC v.1916 64 bit (AMD64)]"
  },
  "orig_nbformat": 4,
  "vscode": {
   "interpreter": {
    "hash": "0246becbc0580ec6251096932d85934390c628b5019733df881ac9071521ec5e"
   }
  }
 },
 "nbformat": 4,
 "nbformat_minor": 2
}
