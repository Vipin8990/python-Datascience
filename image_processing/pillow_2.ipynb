{
 "cells": [
  {
   "cell_type": "code",
   "execution_count": 17,
   "metadata": {},
   "outputs": [],
   "source": [
    "from PIL import Image, ImageDraw, ImageFont, ImageFilter, ImageEnhance"
   ]
  },
  {
   "cell_type": "code",
   "execution_count": 18,
   "metadata": {},
   "outputs": [],
   "source": [
    "img1 = Image.open('img1.png')\n",
    "img2 = Image.open('img2.png')\n",
    "img3 = Image.open('img3.png')\n",
    "img4 = Image.open('img4.png')\n"
   ]
  },
  {
   "cell_type": "code",
   "execution_count": 21,
   "metadata": {},
   "outputs": [
    {
     "data": {
      "image/png": "[encoded data removed]",
      "text/plain": [
       "<PIL.Image.Image image mode=RGB size=300x300>"
      ]
     },
     "execution_count": 21,
     "metadata": {},
     "output_type": "execute_result"
    }
   ],
   "source": [
    "# create a blank 800x600 purple image\n",
    "img5 = Image.new('RGB', (300, 300), (0, 255, 255))\n",
    "img5"
   ]
  },
  {
   "cell_type": "code",
   "execution_count": 22,
   "metadata": {},
   "outputs": [
    {
     "ename": "OSError",
     "evalue": "invalid pixel size",
     "output_type": "error",
     "traceback": [
      "\u001b[1;31m---------------------------------------------------------------------------\u001b[0m",
      "\u001b[1;31mOSError\u001b[0m                                   Traceback (most recent call last)",
      "Cell \u001b[1;32mIn [22], line 2\u001b[0m\n\u001b[0;32m      1\u001b[0m im55 \u001b[39m=\u001b[39m img5\u001b[39m.\u001b[39mcopy()\n\u001b[1;32m----> 2\u001b[0m fnt \u001b[39m=\u001b[39m ImageFont\u001b[39m.\u001b[39;49mtruetype(\u001b[39m'\u001b[39;49m\u001b[39mfont.ttf\u001b[39;49m\u001b[39m'\u001b[39;49m, \u001b[39m40\u001b[39;49m)\n\u001b[0;32m      3\u001b[0m d \u001b[39m=\u001b[39m ImageDraw\u001b[39m.\u001b[39mDraw(im55)\n\u001b[0;32m      4\u001b[0m  \u001b[39m# draw hello at 10, 10 with red color \u001b[39;00m\n",
      "File \u001b[1;32mc:\\Users\\vipin kumar\\miniconda3\\lib\\site-packages\\PIL\\ImageFont.py:959\u001b[0m, in \u001b[0;36mtruetype\u001b[1;34m(font, size, index, encoding, layout_engine)\u001b[0m\n\u001b[0;32m    956\u001b[0m     \u001b[39mreturn\u001b[39;00m FreeTypeFont(font, size, index, encoding, layout_engine)\n\u001b[0;32m    958\u001b[0m \u001b[39mtry\u001b[39;00m:\n\u001b[1;32m--> 959\u001b[0m     \u001b[39mreturn\u001b[39;00m freetype(font)\n\u001b[0;32m    960\u001b[0m \u001b[39mexcept\u001b[39;00m \u001b[39mOSError\u001b[39;00m:\n\u001b[0;32m    961\u001b[0m     \u001b[39mif\u001b[39;00m \u001b[39mnot\u001b[39;00m is_path(font):\n",
      "File \u001b[1;32mc:\\Users\\vipin kumar\\miniconda3\\lib\\site-packages\\PIL\\ImageFont.py:956\u001b[0m, in \u001b[0;36mtruetype.<locals>.freetype\u001b[1;34m(font)\u001b[0m\n\u001b[0;32m    955\u001b[0m \u001b[39mdef\u001b[39;00m \u001b[39mfreetype\u001b[39m(font):\n\u001b[1;32m--> 956\u001b[0m     \u001b[39mreturn\u001b[39;00m FreeTypeFont(font, size, index, encoding, layout_engine)\n",
      "File \u001b[1;32mc:\\Users\\vipin kumar\\miniconda3\\lib\\site-packages\\PIL\\ImageFont.py:247\u001b[0m, in \u001b[0;36mFreeTypeFont.__init__\u001b[1;34m(self, font, size, index, encoding, layout_engine)\u001b[0m\n\u001b[0;32m    245\u001b[0m                 load_from_bytes(f)\n\u001b[0;32m    246\u001b[0m             \u001b[39mreturn\u001b[39;00m\n\u001b[1;32m--> 247\u001b[0m     \u001b[39mself\u001b[39m\u001b[39m.\u001b[39mfont \u001b[39m=\u001b[39m core\u001b[39m.\u001b[39;49mgetfont(\n\u001b[0;32m    248\u001b[0m         font, size, index, encoding, layout_engine\u001b[39m=\u001b[39;49mlayout_engine\n\u001b[0;32m    249\u001b[0m     )\n\u001b[0;32m    250\u001b[0m \u001b[39melse\u001b[39;00m:\n\u001b[0;32m    251\u001b[0m     load_from_bytes(font)\n",
      "\u001b[1;31mOSError\u001b[0m: invalid pixel size"
     ]
    }
   ],
   "source": [
    "im55 = img5.copy()\n",
    "fnt = ImageFont.truetype('font.ttf', 40)\n",
    "d = ImageDraw.Draw(im55)\n",
    " # draw hello at 10, 10 with red color \n",
    "d.text((10,10), \"Hello\", font=fnt, fill=(100, 100, 100))\n",
    "d.text((10, 60), \"How\", font=fnt, fill=(100, 100, 100))\n",
    "d.text((10, 100), \"old\", font=fnt, fill=(100, 100, 100))\n",
    "d.text((10, 140), \"are\", font=fnt, fill=(100, 100, 100))\n",
    "d.text((10, 180), \"are\", font=fnt, fill=(100, 100, 100))\n",
    "im55.show()"
   ]
  },
  {
   "cell_type": "code",
   "execution_count": 23,
   "metadata": {},
   "outputs": [],
   "source": [
    "im33 = img1.copy()\n"
   ]
  },
  {
   "cell_type": "code",
   "execution_count": 27,
   "metadata": {},
   "outputs": [
    {
     "ename": "OSError",
     "evalue": "invalid pixel size",
     "output_type": "error",
     "traceback": [
      "\u001b[1;31m---------------------------------------------------------------------------\u001b[0m",
      "\u001b[1;31mOSError\u001b[0m                                   Traceback (most recent call last)",
      "Cell \u001b[1;32mIn [27], line 10\u001b[0m\n\u001b[0;32m      6\u001b[0m d\u001b[39m.\u001b[39mrectangle((\u001b[39m0\u001b[39m, im33\u001b[39m.\u001b[39mheight \u001b[39m-\u001b[39m \u001b[39m100\u001b[39m, im33\u001b[39m.\u001b[39mwidth, im33\u001b[39m.\u001b[39mheight), fill\u001b[39m=\u001b[39m(\u001b[39m0\u001b[39m,\u001b[39m0\u001b[39m,\u001b[39m0\u001b[39m))\n\u001b[0;32m      8\u001b[0m \u001b[39m# add a text in the top rectangle in the middle with white\u001b[39;00m\n\u001b[1;32m---> 10\u001b[0m fnt \u001b[39m=\u001b[39m ImageFont\u001b[39m.\u001b[39;49mtruetype(\u001b[39m'\u001b[39;49m\u001b[39mfont.ttf\u001b[39;49m\u001b[39m'\u001b[39;49m, \u001b[39m40\u001b[39;49m)\n\u001b[0;32m     11\u001b[0m d\u001b[39m.\u001b[39mtext((im33\u001b[39m.\u001b[39mwidth \u001b[39m/\u001b[39m \u001b[39m2\u001b[39m \u001b[39m-\u001b[39m \u001b[39m100\u001b[39m, \u001b[39m30\u001b[39m), \u001b[39m\"\u001b[39m\u001b[39mHappy New\u001b[39m\u001b[39m\"\u001b[39m, font \u001b[39m=\u001b[39m fnt, fill\u001b[39m=\u001b[39m(\u001b[39m255\u001b[39m, \u001b[39m255\u001b[39m, \u001b[39m255\u001b[39m), align\u001b[39m=\u001b[39m\u001b[39m'\u001b[39m\u001b[39mcenter\u001b[39m\u001b[39m'\u001b[39m)\n\u001b[0;32m     12\u001b[0m d\u001b[39m.\u001b[39mtext((im33\u001b[39m.\u001b[39mwidth \u001b[39m/\u001b[39m \u001b[39m2\u001b[39m \u001b[39m-\u001b[39m \u001b[39m100\u001b[39m,im33\u001b[39m.\u001b[39mheight \u001b[39m-\u001b[39m \u001b[39m70\u001b[39m), \u001b[39m\"\u001b[39m\u001b[39myear 2023\u001b[39m\u001b[39m\"\u001b[39m, font \u001b[39m=\u001b[39m fnt, fill\u001b[39m=\u001b[39m(\u001b[39m255\u001b[39m, \u001b[39m255\u001b[39m, \u001b[39m255\u001b[39m), align\u001b[39m=\u001b[39m\u001b[39m'\u001b[39m\u001b[39mcenter\u001b[39m\u001b[39m'\u001b[39m)\n",
      "File \u001b[1;32mc:\\Users\\vipin kumar\\miniconda3\\lib\\site-packages\\PIL\\ImageFont.py:959\u001b[0m, in \u001b[0;36mtruetype\u001b[1;34m(font, size, index, encoding, layout_engine)\u001b[0m\n\u001b[0;32m    956\u001b[0m     \u001b[39mreturn\u001b[39;00m FreeTypeFont(font, size, index, encoding, layout_engine)\n\u001b[0;32m    958\u001b[0m \u001b[39mtry\u001b[39;00m:\n\u001b[1;32m--> 959\u001b[0m     \u001b[39mreturn\u001b[39;00m freetype(font)\n\u001b[0;32m    960\u001b[0m \u001b[39mexcept\u001b[39;00m \u001b[39mOSError\u001b[39;00m:\n\u001b[0;32m    961\u001b[0m     \u001b[39mif\u001b[39;00m \u001b[39mnot\u001b[39;00m is_path(font):\n",
      "File \u001b[1;32mc:\\Users\\vipin kumar\\miniconda3\\lib\\site-packages\\PIL\\ImageFont.py:956\u001b[0m, in \u001b[0;36mtruetype.<locals>.freetype\u001b[1;34m(font)\u001b[0m\n\u001b[0;32m    955\u001b[0m \u001b[39mdef\u001b[39;00m \u001b[39mfreetype\u001b[39m(font):\n\u001b[1;32m--> 956\u001b[0m     \u001b[39mreturn\u001b[39;00m FreeTypeFont(font, size, index, encoding, layout_engine)\n",
      "File \u001b[1;32mc:\\Users\\vipin kumar\\miniconda3\\lib\\site-packages\\PIL\\ImageFont.py:247\u001b[0m, in \u001b[0;36mFreeTypeFont.__init__\u001b[1;34m(self, font, size, index, encoding, layout_engine)\u001b[0m\n\u001b[0;32m    245\u001b[0m                 load_from_bytes(f)\n\u001b[0;32m    246\u001b[0m             \u001b[39mreturn\u001b[39;00m\n\u001b[1;32m--> 247\u001b[0m     \u001b[39mself\u001b[39m\u001b[39m.\u001b[39mfont \u001b[39m=\u001b[39m core\u001b[39m.\u001b[39;49mgetfont(\n\u001b[0;32m    248\u001b[0m         font, size, index, encoding, layout_engine\u001b[39m=\u001b[39;49mlayout_engine\n\u001b[0;32m    249\u001b[0m     )\n\u001b[0;32m    250\u001b[0m \u001b[39melse\u001b[39;00m:\n\u001b[0;32m    251\u001b[0m     load_from_bytes(font)\n",
      "\u001b[1;31mOSError\u001b[0m: invalid pixel size"
     ]
    }
   ],
   "source": [
    "d = ImageDraw.Draw(im33)\n",
    "\n",
    "# draw a rectangle on the top and bottow of the image with 100px height and black\n",
    "\n",
    "d.rectangle((0, 0, im33.width, 100), fill=(0, 0, 0))\n",
    "d.rectangle((0, im33.height - 100, im33.width, im33.height), fill=(0,0,0))\n",
    "\n",
    "# add a text in the top rectangle in the middle with white\n",
    "\n",
    "fnt = ImageFont.truetype('font.ttf', 40)\n",
    "d.text((im33.width / 2 - 100, 30), \"Happy New\", font = fnt, fill=(255, 255, 255), align='center')\n",
    "d.text((im33.width / 2 - 100,im33.height - 70), \"year 2023\", font = fnt, fill=(255, 255, 255), align='center')\n",
    "im33.show()"
   ]
  },
  {
   "cell_type": "code",
   "execution_count": null,
   "metadata": {},
   "outputs": [],
   "source": []
  }
 ],
 "metadata": {
  "kernelspec": {
   "display_name": "base",
   "language": "python",
   "name": "python3"
  },
  "language_info": {
   "codemirror_mode": {
    "name": "ipython",
    "version": 3
   },
   "file_extension": ".py",
   "mimetype": "text/x-python",
   "name": "python",
   "nbconvert_exporter": "python",
   "pygments_lexer": "ipython3",
   "version": "3.9.15 (main, Nov 24 2022, 14:39:17) [MSC v.1916 64 bit (AMD64)]"
  },
  "orig_nbformat": 4,
  "vscode": {
   "interpreter": {
    "hash": "0246becbc0580ec6251096932d85934390c628b5019733df881ac9071521ec5e"
   }
  }
 },
 "nbformat": 4,
 "nbformat_minor": 2
}
