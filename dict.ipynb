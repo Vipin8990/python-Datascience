{
 "cells": [
  {
   "cell_type": "code",
   "execution_count": 2,
   "metadata": {},
   "outputs": [],
   "source": [
    "emp = [\"Amar\", \"deep\", \"fianance\", 2300, 10000, 30000, 31, True, False, \"Acme\"]\n"
   ]
  },
  {
   "cell_type": "code",
   "execution_count": 32,
   "metadata": {},
   "outputs": [],
   "source": [
    "emp_dict = {'fname':'Amar',\n",
    "'lname':'deep',\n",
    "'dept':'finance',\n",
    "'age':31,\n",
    "'salary': 100000,\n",
    "'bonus':12300,\n",
    "'is_manager':True,\n",
    "'is_executive':False,\n",
    "'company':'Acme'}"
   ]
  },
  {
   "cell_type": "code",
   "execution_count": 33,
   "metadata": {},
   "outputs": [
    {
     "name": "stdout",
     "output_type": "stream",
     "text": [
      "{'fname': 'Amar', 'lname': 'deep', 'dept': 'finance', 'age': 31, 'salary': 100000, 'bonus': 12300, 'is_manager': True, 'is_executive': False, 'company': 'Acme'}\n"
     ]
    }
   ],
   "source": [
    "print(emp_dict)"
   ]
  },
  {
   "cell_type": "code",
   "execution_count": 11,
   "metadata": {},
   "outputs": [],
   "source": [
    "# complex data\n",
    "weather_data ={ \n",
    "'date':'2019-01-01',\n",
    "'temp':32,\n",
    "'details':{\n",
    "    'humidity':80,\n",
    "    'wind':10,\n",
    "    'pressure':30,\n",
    "    'aqi':120\n",
    "},\n",
    "'city':'Lucknow',\n",
    "'type':'sunshine',\n",
    "'icon':'☀️'# windows + . for emoji\n",
    "}\n"
   ]
  },
  {
   "cell_type": "markdown",
   "metadata": {},
   "source": [
    "### accessing data from dict"
   ]
  },
  {
   "cell_type": "code",
   "execution_count": 10,
   "metadata": {},
   "outputs": [
    {
     "data": {
      "text/plain": [
       "{'date': '2019-01-01',\n",
       " 'temp': 32,\n",
       " 'details': {'humidity': 80, 'wind': 10, 'pressure': 30, 'aqi': 120},\n",
       " 'city': 'Lucknow',\n",
       " 'type': 'sunshine',\n",
       " 'icon': '☀️'}"
      ]
     },
     "execution_count": 10,
     "metadata": {},
     "output_type": "execute_result"
    }
   ],
   "source": [
    "weather_data"
   ]
  },
  {
   "cell_type": "code",
   "execution_count": 13,
   "metadata": {},
   "outputs": [
    {
     "data": {
      "text/plain": [
       "dict_keys(['date', 'temp', 'details', 'city', 'type', 'icon'])"
      ]
     },
     "execution_count": 13,
     "metadata": {},
     "output_type": "execute_result"
    }
   ],
   "source": [
    "# keys function find keys in the dict\n",
    "weather_data.keys()"
   ]
  },
  {
   "cell_type": "code",
   "execution_count": 15,
   "metadata": {},
   "outputs": [
    {
     "data": {
      "text/plain": [
       "dict_values(['2019-01-01', 32, {'humidity': 80, 'wind': 10, 'pressure': 30, 'aqi': 120}, 'Lucknow', 'sunshine', '☀️'])"
      ]
     },
     "execution_count": 15,
     "metadata": {},
     "output_type": "execute_result"
    }
   ],
   "source": [
    "# values function are find the values in the dict\n",
    "weather_data.values()"
   ]
  },
  {
   "cell_type": "code",
   "execution_count": 16,
   "metadata": {},
   "outputs": [
    {
     "data": {
      "text/plain": [
       "['2019-01-01',\n",
       " 32,\n",
       " {'humidity': 80, 'wind': 10, 'pressure': 30, 'aqi': 120},\n",
       " 'Lucknow',\n",
       " 'sunshine',\n",
       " '☀️']"
      ]
     },
     "execution_count": 16,
     "metadata": {},
     "output_type": "execute_result"
    }
   ],
   "source": [
    "# to convert data into list \n",
    "list(weather_data.values())"
   ]
  },
  {
   "cell_type": "code",
   "execution_count": 18,
   "metadata": {},
   "outputs": [
    {
     "data": {
      "text/plain": [
       "32"
      ]
     },
     "execution_count": 18,
     "metadata": {},
     "output_type": "execute_result"
    }
   ],
   "source": [
    "# to print a particular data in dict\n",
    "weather_data['temp']"
   ]
  },
  {
   "cell_type": "code",
   "execution_count": 20,
   "metadata": {},
   "outputs": [
    {
     "data": {
      "text/plain": [
       "'Lucknow'"
      ]
     },
     "execution_count": 20,
     "metadata": {},
     "output_type": "execute_result"
    }
   ],
   "source": [
    "weather_data['city']"
   ]
  },
  {
   "cell_type": "code",
   "execution_count": 23,
   "metadata": {},
   "outputs": [
    {
     "data": {
      "text/plain": [
       "32"
      ]
     },
     "execution_count": 23,
     "metadata": {},
     "output_type": "execute_result"
    }
   ],
   "source": [
    "weather_data.get('temp') # get function are used to find the data in dict if fata is not present it dosen't give a error"
   ]
  },
  {
   "cell_type": "code",
   "execution_count": 24,
   "metadata": {},
   "outputs": [],
   "source": [
    "weather_data.get('location')"
   ]
  },
  {
   "cell_type": "code",
   "execution_count": 25,
   "metadata": {},
   "outputs": [
    {
     "data": {
      "text/plain": [
       "'not found'"
      ]
     },
     "execution_count": 25,
     "metadata": {},
     "output_type": "execute_result"
    }
   ],
   "source": [
    "weather_data.get('location','not found')"
   ]
  },
  {
   "cell_type": "code",
   "execution_count": 38,
   "metadata": {},
   "outputs": [
    {
     "name": "stdout",
     "output_type": "stream",
     "text": [
      "fname => Amar\n",
      "lname => deep\n",
      "dept => finance\n",
      "age => 31\n",
      "salary => 100000\n",
      "bonus => 12300\n",
      "is_manager => True\n",
      "is_executive => False\n",
      "company => Acme\n"
     ]
    }
   ],
   "source": [
    "# looping over dictionary\n",
    "for k in emp_dict:\n",
    "    print(k,'=>',emp_dict[k]) # extracting value in keys "
   ]
  },
  {
   "cell_type": "code",
   "execution_count": 35,
   "metadata": {},
   "outputs": [
    {
     "name": "stdout",
     "output_type": "stream",
     "text": [
      "fname => Amar\n",
      "lname => deep\n",
      "dept => finance\n",
      "age => 31\n",
      "salary => 100000\n",
      "bonus => 12300\n",
      "is_manager => True\n",
      "is_executive => False\n",
      "company => Acme\n"
     ]
    }
   ],
   "source": [
    "# looping over a dictionary using items()\n",
    "for k,v in emp_dict.items():\n",
    "    print(k,'=>',v)"
   ]
  },
  {
   "cell_type": "code",
   "execution_count": 36,
   "metadata": {},
   "outputs": [],
   "source": [
    "weather_data['temp'] = 35"
   ]
  },
  {
   "cell_type": "code",
   "execution_count": 37,
   "metadata": {},
   "outputs": [
    {
     "data": {
      "text/plain": [
       "{'date': '2019-01-01',\n",
       " 'temp': 35,\n",
       " 'details': {'humidity': 80, 'wind': 10, 'pressure': 30, 'aqi': 120},\n",
       " 'city': 'Lucknow',\n",
       " 'type': 'sunshine',\n",
       " 'icon': '☀️'}"
      ]
     },
     "execution_count": 37,
     "metadata": {},
     "output_type": "execute_result"
    }
   ],
   "source": [
    "weather_data"
   ]
  },
  {
   "cell_type": "code",
   "execution_count": null,
   "metadata": {},
   "outputs": [],
   "source": []
  }
 ],
 "metadata": {
  "kernelspec": {
   "display_name": "Python 3.9.12 ('base')",
   "language": "python",
   "name": "python3"
  },
  "language_info": {
   "codemirror_mode": {
    "name": "ipython",
    "version": 3
   },
   "file_extension": ".py",
   "mimetype": "text/x-python",
   "name": "python",
   "nbconvert_exporter": "python",
   "pygments_lexer": "ipython3",
   "version": "3.9.12"
  },
  "orig_nbformat": 4,
  "vscode": {
   "interpreter": {
    "hash": "0246becbc0580ec6251096932d85934390c628b5019733df881ac9071521ec5e"
   }
  }
 },
 "nbformat": 4,
 "nbformat_minor": 2
}
