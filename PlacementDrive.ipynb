{
 "cells": [
  {
   "cell_type": "markdown",
   "metadata": {},
   "source": [
    "###### WAP to print all the integral divisior's of the inputed number's \n",
    "simple input: 48\n",
    "simple output: 1,48,2,24,3,16,4,12,6,8\n",
    "[TCS NQT JUN 2022]"
   ]
  },
  {
   "cell_type": "code",
   "execution_count": 4,
   "metadata": {},
   "outputs": [
    {
     "name": "stdout",
     "output_type": "stream",
     "text": [
      "3\n",
      "10\n",
      "5\n",
      "6\n",
      "4\n"
     ]
    }
   ],
   "source": [
    "n = int(input(\"enter a number\"))\n",
    "c = 0\n",
    "for i in range (1,int(n**(1/2)+1)):\n",
    "    if n% i == 0:\n",
    "        if i == n//i:\n",
    "            print(i)\n",
    "            c = c+1\n",
    "    else:\n",
    "        print(i)\n",
    "        print(n//i)\n",
    "        c = c+2\n",
    "print(c)"
   ]
  },
  {
   "cell_type": "code",
   "execution_count": null,
   "metadata": {},
   "outputs": [],
   "source": [
    "  "
   ]
  },
  {
   "cell_type": "code",
   "execution_count": null,
   "metadata": {},
   "outputs": [],
   "source": []
  }
 ],
 "metadata": {
  "kernelspec": {
   "display_name": "Python 3.9.12 ('base')",
   "language": "python",
   "name": "python3"
  },
  "language_info": {
   "codemirror_mode": {
    "name": "ipython",
    "version": 3
   },
   "file_extension": ".py",
   "mimetype": "text/x-python",
   "name": "python",
   "nbconvert_exporter": "python",
   "pygments_lexer": "ipython3",
   "version": "3.9.12"
  },
  "orig_nbformat": 4,
  "vscode": {
   "interpreter": {
    "hash": "0246becbc0580ec6251096932d85934390c628b5019733df881ac9071521ec5e"
   }
  }
 },
 "nbformat": 4,
 "nbformat_minor": 2
}
