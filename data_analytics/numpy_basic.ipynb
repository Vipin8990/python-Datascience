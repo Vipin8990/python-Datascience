{
 "cells": [
  {
   "cell_type": "code",
   "execution_count": 3,
   "metadata": {},
   "outputs": [
    {
     "ename": "AttributeError",
     "evalue": "'list' object has no attribute 'random'",
     "output_type": "error",
     "traceback": [
      "\u001b[1;31m---------------------------------------------------------------------------\u001b[0m",
      "\u001b[1;31mAttributeError\u001b[0m                            Traceback (most recent call last)",
      "\u001b[1;32md:\\java Tutorial\\python tutorial\\data_analytics\\numpy_basic.ipynb Cell 1\u001b[0m in \u001b[0;36m<cell line: 2>\u001b[1;34m()\u001b[0m\n\u001b[0;32m      <a href='vscode-notebook-cell:/d%3A/java%20Tutorial/python%20tutorial/data_analytics/numpy_basic.ipynb#W0sZmlsZQ%3D%3D?line=0'>1</a>\u001b[0m np \u001b[39m=\u001b[39m [\u001b[39m1\u001b[39m,\u001b[39m2\u001b[39m,\u001b[39m3\u001b[39m,\u001b[39m4\u001b[39m,\u001b[39m5\u001b[39m]\n\u001b[1;32m----> <a href='vscode-notebook-cell:/d%3A/java%20Tutorial/python%20tutorial/data_analytics/numpy_basic.ipynb#W0sZmlsZQ%3D%3D?line=1'>2</a>\u001b[0m data \u001b[39m=\u001b[39m np\u001b[39m.\u001b[39;49mrandom\u001b[39m.\u001b[39mrandint(\u001b[39m1\u001b[39m,\u001b[39m1000\u001b[39m,(\u001b[39m5\u001b[39m,\u001b[39m5\u001b[39m))\n",
      "\u001b[1;31mAttributeError\u001b[0m: 'list' object has no attribute 'random'"
     ]
    }
   ],
   "source": [
    "\n",
    "data = np.random.randint(1,1000,(5,5))"
   ]
  },
  {
   "cell_type": "code",
   "execution_count": 4,
   "metadata": {},
   "outputs": [
    {
     "ename": "SyntaxError",
     "evalue": "invalid syntax (1212429787.py, line 3)",
     "output_type": "error",
     "traceback": [
      "\u001b[1;36m  Input \u001b[1;32mIn [4]\u001b[1;36m\u001b[0m\n\u001b[1;33m    for i in data\u001b[0m\n\u001b[1;37m                 ^\u001b[0m\n\u001b[1;31mSyntaxError\u001b[0m\u001b[1;31m:\u001b[0m invalid syntax\n"
     ]
    }
   ],
   "source": [
    "# noob way for getting the filtered data\n",
    "\n",
    "for i in data:\n",
    "    for j in i:\n",
    "        if j < 500:\n",
    "            print(j, end='')"
   ]
  },
  {
   "cell_type": "code",
   "execution_count": 5,
   "metadata": {},
   "outputs": [
    {
     "ename": "NameError",
     "evalue": "name 'data' is not defined",
     "output_type": "error",
     "traceback": [
      "\u001b[1;31m---------------------------------------------------------------------------\u001b[0m",
      "\u001b[1;31mNameError\u001b[0m                                 Traceback (most recent call last)",
      "\u001b[1;32md:\\java Tutorial\\python tutorial\\data_analytics\\numpy_basic.ipynb Cell 3\u001b[0m in \u001b[0;36m<cell line: 2>\u001b[1;34m()\u001b[0m\n\u001b[0;32m      <a href='vscode-notebook-cell:/d%3A/java%20Tutorial/python%20tutorial/data_analytics/numpy_basic.ipynb#W2sZmlsZQ%3D%3D?line=0'>1</a>\u001b[0m \u001b[39m# pythonic way \u001b[39;00m\n\u001b[1;32m----> <a href='vscode-notebook-cell:/d%3A/java%20Tutorial/python%20tutorial/data_analytics/numpy_basic.ipynb#W2sZmlsZQ%3D%3D?line=1'>2</a>\u001b[0m data \u001b[39m<\u001b[39m \u001b[39m500\u001b[39m\n",
      "\u001b[1;31mNameError\u001b[0m: name 'data' is not defined"
     ]
    }
   ],
   "source": [
    "# pythonic way \n",
    "data < 500 # boolean array"
   ]
  },
  {
   "cell_type": "code",
   "execution_count": null,
   "metadata": {},
   "outputs": [],
   "source": [
    "data[data <100]"
   ]
  },
  {
   "cell_type": "code",
   "execution_count": null,
   "metadata": {},
   "outputs": [],
   "source": [
    "data[(data <100) | (data > 500)]"
   ]
  },
  {
   "cell_type": "markdown",
   "metadata": {},
   "source": [
    "#####\n",
    "s rows , 5 cols\n",
    "x[:5,:5]\n",
    "\n",
    "all rows , col 3, 6, 7\n",
    "x[:, [3,6,7]]\n",
    "\n",
    "x[2:-2,2:-2]\n",
    "x[:, :-1]\n"
   ]
  },
  {
   "cell_type": "markdown",
   "metadata": {},
   "source": []
  }
 ],
 "metadata": {
  "kernelspec": {
   "display_name": "Python 3.9.12 ('base')",
   "language": "python",
   "name": "python3"
  },
  "language_info": {
   "codemirror_mode": {
    "name": "ipython",
    "version": 3
   },
   "file_extension": ".py",
   "mimetype": "text/x-python",
   "name": "python",
   "nbconvert_exporter": "python",
   "pygments_lexer": "ipython3",
   "version": "3.9.12"
  },
  "orig_nbformat": 4,
  "vscode": {
   "interpreter": {
    "hash": "0246becbc0580ec6251096932d85934390c628b5019733df881ac9071521ec5e"
   }
  }
 },
 "nbformat": 4,
 "nbformat_minor": 2
}
