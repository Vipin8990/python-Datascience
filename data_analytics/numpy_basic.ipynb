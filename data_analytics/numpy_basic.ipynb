{
 "cells": [
  {
   "cell_type": "code",
   "execution_count": 1,
   "metadata": {},
   "outputs": [],
   "source": [
    "import numpy as np"
   ]
  },
  {
   "cell_type": "code",
   "execution_count": 2,
   "metadata": {},
   "outputs": [
    {
     "name": "stdout",
     "output_type": "stream",
     "text": [
      "[1 2 3 4]\n"
     ]
    }
   ],
   "source": [
    "x = np.array([1,2,3,4])\n",
    "print(x)"
   ]
  },
  {
   "cell_type": "code",
   "execution_count": 3,
   "metadata": {},
   "outputs": [
    {
     "name": "stdout",
     "output_type": "stream",
     "text": [
      "[[2 3]\n",
      " [5 6]]\n"
     ]
    }
   ],
   "source": [
    "x2 = np.array([[2,3],[5,6]])\n",
    "print(x2)"
   ]
  },
  {
   "cell_type": "code",
   "execution_count": 4,
   "metadata": {},
   "outputs": [
    {
     "name": "stdout",
     "output_type": "stream",
     "text": [
      "(4,)\n",
      "(2, 2)\n",
      "1\n"
     ]
    }
   ],
   "source": [
    "print(x.shape)\n",
    "print(x2.shape)\n",
    "print(x.ndim)     #property"
   ]
  },
  {
   "cell_type": "code",
   "execution_count": 5,
   "metadata": {},
   "outputs": [
    {
     "name": "stdout",
     "output_type": "stream",
     "text": [
      "[-5 -4 -3 -2 -1  0  1  2  3  4  5]\n"
     ]
    }
   ],
   "source": [
    "a = np.arange(-5,6)\n",
    "print(a)"
   ]
  },
  {
   "cell_type": "code",
   "execution_count": 6,
   "metadata": {},
   "outputs": [
    {
     "name": "stdout",
     "output_type": "stream",
     "text": [
      "[-5 -3 -1  1  3  5]\n"
     ]
    }
   ],
   "source": [
    "a = np.arange(-5,6,2)\n",
    "print(a)"
   ]
  },
  {
   "cell_type": "code",
   "execution_count": 7,
   "metadata": {},
   "outputs": [
    {
     "name": "stdout",
     "output_type": "stream",
     "text": [
      "[-5.  -4.5 -4.  -3.5 -3.  -2.5 -2.  -1.5 -1.  -0.5  0.   0.5  1.   1.5\n",
      "  2.   2.5  3.   3.5  4.   4.5  5.   5.5]\n",
      "(22,)\n",
      "22\n"
     ]
    }
   ],
   "source": [
    "a = np.arange(-5,6,.5)\n",
    "print(a)\n",
    "print(a.shape)  # finds rows and columns\n",
    "print(a.size)   # gives number of elements\n"
   ]
  },
  {
   "cell_type": "code",
   "execution_count": 8,
   "metadata": {},
   "outputs": [
    {
     "name": "stdout",
     "output_type": "stream",
     "text": [
      "[ 1.          1.18367347  1.36734694  1.55102041  1.73469388  1.91836735\n",
      "  2.10204082  2.28571429  2.46938776  2.65306122  2.83673469  3.02040816\n",
      "  3.20408163  3.3877551   3.57142857  3.75510204  3.93877551  4.12244898\n",
      "  4.30612245  4.48979592  4.67346939  4.85714286  5.04081633  5.2244898\n",
      "  5.40816327  5.59183673  5.7755102   5.95918367  6.14285714  6.32653061\n",
      "  6.51020408  6.69387755  6.87755102  7.06122449  7.24489796  7.42857143\n",
      "  7.6122449   7.79591837  7.97959184  8.16326531  8.34693878  8.53061224\n",
      "  8.71428571  8.89795918  9.08163265  9.26530612  9.44897959  9.63265306\n",
      "  9.81632653 10.        ]\n"
     ]
    }
   ],
   "source": [
    "b = np.linspace(1,10,50)  #equal division\n",
    "print(b)                  # single dimension value"
   ]
  },
  {
   "cell_type": "code",
   "execution_count": 9,
   "metadata": {},
   "outputs": [
    {
     "name": "stdout",
     "output_type": "stream",
     "text": [
      "[[0.52289056 0.55572477 0.28083808]\n",
      " [0.29168804 0.92893293 0.42683593]\n",
      " [0.0117256  0.71869659 0.08522939]]\n",
      "(3, 3)\n",
      "9\n"
     ]
    }
   ],
   "source": [
    "c = np.random.random((3,3))  # 3x3 matrix\n",
    "print(c)\n",
    "print(c.shape)\n",
    "print(c.size)"
   ]
  },
  {
   "cell_type": "code",
   "execution_count": 10,
   "metadata": {},
   "outputs": [
    {
     "name": "stdout",
     "output_type": "stream",
     "text": [
      "[[0.12623445 0.80348918 0.80390113 0.43835458 0.56421246]\n",
      " [0.55198667 0.00952374 0.64201726 0.01494047 0.12336941]\n",
      " [0.08610962 0.25629266 0.90632566 0.77863109 0.3436501 ]\n",
      " [0.31739406 0.27871819 0.81148889 0.06410048 0.58270281]\n",
      " [0.0287737  0.87922083 0.1194703  0.59777051 0.26068062]]\n",
      "(5, 5)\n",
      "25\n"
     ]
    }
   ],
   "source": [
    "d = np.random.random((5,5))\n",
    "print(d)\n",
    "print(d.shape)\n",
    "print(d.size)\n"
   ]
  },
  {
   "cell_type": "code",
   "execution_count": 11,
   "metadata": {},
   "outputs": [
    {
     "name": "stdout",
     "output_type": "stream",
     "text": [
      "[[[6 5 6]\n",
      "  [2 7 4]\n",
      "  [5 3 9]]\n",
      "\n",
      " [[9 9 5]\n",
      "  [2 9 2]\n",
      "  [7 9 9]]\n",
      "\n",
      " [[3 3 2]\n",
      "  [2 6 5]\n",
      "  [3 2 4]]]\n",
      "(3, 3, 3)\n",
      "27\n"
     ]
    }
   ],
   "source": [
    "e = np.random.randint(1,10,(3,3,3))\n",
    "print(e)\n",
    "print(e.shape)\n",
    "print(e.size)"
   ]
  },
  {
   "cell_type": "code",
   "execution_count": 12,
   "metadata": {},
   "outputs": [
    {
     "name": "stdout",
     "output_type": "stream",
     "text": [
      "[  1.           2.11235955   3.2247191    4.33707865   5.4494382\n",
      "   6.56179775   7.6741573    8.78651685   9.8988764   11.01123596\n",
      "  12.12359551  13.23595506  14.34831461  15.46067416  16.57303371\n",
      "  17.68539326  18.79775281  19.91011236  21.02247191  22.13483146\n",
      "  23.24719101  24.35955056  25.47191011  26.58426966  27.69662921\n",
      "  28.80898876  29.92134831  31.03370787  32.14606742  33.25842697\n",
      "  34.37078652  35.48314607  36.59550562  37.70786517  38.82022472\n",
      "  39.93258427  41.04494382  42.15730337  43.26966292  44.38202247\n",
      "  45.49438202  46.60674157  47.71910112  48.83146067  49.94382022\n",
      "  51.05617978  52.16853933  53.28089888  54.39325843  55.50561798\n",
      "  56.61797753  57.73033708  58.84269663  59.95505618  61.06741573\n",
      "  62.17977528  63.29213483  64.40449438  65.51685393  66.62921348\n",
      "  67.74157303  68.85393258  69.96629213  71.07865169  72.19101124\n",
      "  73.30337079  74.41573034  75.52808989  76.64044944  77.75280899\n",
      "  78.86516854  79.97752809  81.08988764  82.20224719  83.31460674\n",
      "  84.42696629  85.53932584  86.65168539  87.76404494  88.87640449\n",
      "  89.98876404  91.1011236   92.21348315  93.3258427   94.43820225\n",
      "  95.5505618   96.66292135  97.7752809   98.88764045 100.        ]\n",
      "(90,)\n"
     ]
    }
   ],
   "source": [
    "f = np.linspace(1,100,90)\n",
    "print(f)\n",
    "print(f.shape)"
   ]
  },
  {
   "cell_type": "code",
   "execution_count": 13,
   "metadata": {},
   "outputs": [
    {
     "name": "stdout",
     "output_type": "stream",
     "text": [
      "[[  1.           2.11235955   3.2247191    4.33707865   5.4494382\n",
      "    6.56179775   7.6741573    8.78651685   9.8988764   11.01123596]\n",
      " [ 12.12359551  13.23595506  14.34831461  15.46067416  16.57303371\n",
      "   17.68539326  18.79775281  19.91011236  21.02247191  22.13483146]\n",
      " [ 23.24719101  24.35955056  25.47191011  26.58426966  27.69662921\n",
      "   28.80898876  29.92134831  31.03370787  32.14606742  33.25842697]\n",
      " [ 34.37078652  35.48314607  36.59550562  37.70786517  38.82022472\n",
      "   39.93258427  41.04494382  42.15730337  43.26966292  44.38202247]\n",
      " [ 45.49438202  46.60674157  47.71910112  48.83146067  49.94382022\n",
      "   51.05617978  52.16853933  53.28089888  54.39325843  55.50561798]\n",
      " [ 56.61797753  57.73033708  58.84269663  59.95505618  61.06741573\n",
      "   62.17977528  63.29213483  64.40449438  65.51685393  66.62921348]\n",
      " [ 67.74157303  68.85393258  69.96629213  71.07865169  72.19101124\n",
      "   73.30337079  74.41573034  75.52808989  76.64044944  77.75280899]\n",
      " [ 78.86516854  79.97752809  81.08988764  82.20224719  83.31460674\n",
      "   84.42696629  85.53932584  86.65168539  87.76404494  88.87640449]\n",
      " [ 89.98876404  91.1011236   92.21348315  93.3258427   94.43820225\n",
      "   95.5505618   96.66292135  97.7752809   98.88764045 100.        ]]\n"
     ]
    }
   ],
   "source": [
    "f2 = f.reshape(9,10)\n",
    "print(f2)"
   ]
  },
  {
   "cell_type": "code",
   "execution_count": 14,
   "metadata": {},
   "outputs": [
    {
     "name": "stdout",
     "output_type": "stream",
     "text": [
      "[[  1.           2.11235955]\n",
      " [  3.2247191    4.33707865]\n",
      " [  5.4494382    6.56179775]\n",
      " [  7.6741573    8.78651685]\n",
      " [  9.8988764   11.01123596]\n",
      " [ 12.12359551  13.23595506]\n",
      " [ 14.34831461  15.46067416]\n",
      " [ 16.57303371  17.68539326]\n",
      " [ 18.79775281  19.91011236]\n",
      " [ 21.02247191  22.13483146]\n",
      " [ 23.24719101  24.35955056]\n",
      " [ 25.47191011  26.58426966]\n",
      " [ 27.69662921  28.80898876]\n",
      " [ 29.92134831  31.03370787]\n",
      " [ 32.14606742  33.25842697]\n",
      " [ 34.37078652  35.48314607]\n",
      " [ 36.59550562  37.70786517]\n",
      " [ 38.82022472  39.93258427]\n",
      " [ 41.04494382  42.15730337]\n",
      " [ 43.26966292  44.38202247]\n",
      " [ 45.49438202  46.60674157]\n",
      " [ 47.71910112  48.83146067]\n",
      " [ 49.94382022  51.05617978]\n",
      " [ 52.16853933  53.28089888]\n",
      " [ 54.39325843  55.50561798]\n",
      " [ 56.61797753  57.73033708]\n",
      " [ 58.84269663  59.95505618]\n",
      " [ 61.06741573  62.17977528]\n",
      " [ 63.29213483  64.40449438]\n",
      " [ 65.51685393  66.62921348]\n",
      " [ 67.74157303  68.85393258]\n",
      " [ 69.96629213  71.07865169]\n",
      " [ 72.19101124  73.30337079]\n",
      " [ 74.41573034  75.52808989]\n",
      " [ 76.64044944  77.75280899]\n",
      " [ 78.86516854  79.97752809]\n",
      " [ 81.08988764  82.20224719]\n",
      " [ 83.31460674  84.42696629]\n",
      " [ 85.53932584  86.65168539]\n",
      " [ 87.76404494  88.87640449]\n",
      " [ 89.98876404  91.1011236 ]\n",
      " [ 92.21348315  93.3258427 ]\n",
      " [ 94.43820225  95.5505618 ]\n",
      " [ 96.66292135  97.7752809 ]\n",
      " [ 98.88764045 100.        ]]\n"
     ]
    }
   ],
   "source": [
    "f3 = f.reshape(45,2)\n",
    "print(f3)"
   ]
  },
  {
   "cell_type": "code",
   "execution_count": 15,
   "metadata": {},
   "outputs": [
    {
     "name": "stdout",
     "output_type": "stream",
     "text": [
      "[[2 5 9]\n",
      " [1 1 1]\n",
      " [7 6 4]]\n",
      "\n",
      "[[5 5 9]\n",
      " [5 4 1]\n",
      " [6 2 2]]\n"
     ]
    }
   ],
   "source": [
    "x = np.random.randint(1,10,(3,3))\n",
    "y = np.random.randint(1,10,(3,3))\n",
    "print(x)\n",
    "print()\n",
    "print(y)"
   ]
  },
  {
   "cell_type": "code",
   "execution_count": 16,
   "metadata": {},
   "outputs": [
    {
     "data": {
      "text/plain": [
       "array([[ 7, 10, 18],\n",
       "       [ 6,  5,  2],\n",
       "       [13,  8,  6]])"
      ]
     },
     "execution_count": 16,
     "metadata": {},
     "output_type": "execute_result"
    }
   ],
   "source": [
    "x + y # element wise addition"
   ]
  },
  {
   "cell_type": "code",
   "execution_count": 17,
   "metadata": {},
   "outputs": [
    {
     "data": {
      "text/plain": [
       "array([[-3,  0,  0],\n",
       "       [-4, -3,  0],\n",
       "       [ 1,  4,  2]])"
      ]
     },
     "execution_count": 17,
     "metadata": {},
     "output_type": "execute_result"
    }
   ],
   "source": [
    "x - y # element wise subtraction"
   ]
  },
  {
   "cell_type": "code",
   "execution_count": 18,
   "metadata": {},
   "outputs": [
    {
     "data": {
      "text/plain": [
       "array([[10, 25, 81],\n",
       "       [ 5,  4,  1],\n",
       "       [42, 12,  8]])"
      ]
     },
     "execution_count": 18,
     "metadata": {},
     "output_type": "execute_result"
    }
   ],
   "source": [
    "x * y # element wise multiplication"
   ]
  },
  {
   "cell_type": "code",
   "execution_count": 19,
   "metadata": {},
   "outputs": [
    {
     "data": {
      "text/plain": [
       "array([[0.4       , 1.        , 1.        ],\n",
       "       [0.2       , 0.25      , 1.        ],\n",
       "       [1.16666667, 3.        , 2.        ]])"
      ]
     },
     "execution_count": 19,
     "metadata": {},
     "output_type": "execute_result"
    }
   ],
   "source": [
    "x / y # element wise division"
   ]
  },
  {
   "cell_type": "code",
   "execution_count": 20,
   "metadata": {},
   "outputs": [
    {
     "data": {
      "text/plain": [
       "array([[0, 1, 1],\n",
       "       [0, 0, 1],\n",
       "       [1, 3, 2]])"
      ]
     },
     "execution_count": 20,
     "metadata": {},
     "output_type": "execute_result"
    }
   ],
   "source": [
    "x // y # element wise floor division"
   ]
  },
  {
   "cell_type": "code",
   "execution_count": 21,
   "metadata": {},
   "outputs": [
    {
     "data": {
      "text/plain": [
       "array([[2, 0, 0],\n",
       "       [1, 1, 0],\n",
       "       [1, 0, 0]])"
      ]
     },
     "execution_count": 21,
     "metadata": {},
     "output_type": "execute_result"
    }
   ],
   "source": [
    "x % y # element wise moduls"
   ]
  },
  {
   "cell_type": "code",
   "execution_count": 22,
   "metadata": {},
   "outputs": [
    {
     "data": {
      "text/plain": [
       "array([[       32,      3125, 387420489],\n",
       "       [        1,         1,         1],\n",
       "       [   117649,        36,        16]])"
      ]
     },
     "execution_count": 22,
     "metadata": {},
     "output_type": "execute_result"
    }
   ],
   "source": [
    "x ** y # element wise exponential"
   ]
  },
  {
   "cell_type": "code",
   "execution_count": 23,
   "metadata": {},
   "outputs": [
    {
     "name": "stdout",
     "output_type": "stream",
     "text": [
      "[[89 48 41]\n",
      " [16 11 12]\n",
      " [89 67 77]]\n",
      "[[89 48 41]\n",
      " [16 11 12]\n",
      " [89 67 77]]\n",
      "[[  0  27 -15]\n",
      " [ -3   4  -1]\n",
      " [  4  10 -22]]\n",
      "[[89 48 41]\n",
      " [16 11 12]\n",
      " [89 67 77]]\n"
     ]
    }
   ],
   "source": [
    "print(np.dot(x,y))      #dot product\n",
    "print(x.dot(y))         #same dot product\n",
    "print(np.cross(x,y))    #cross product\n",
    "print(np.matmul(x,y))   #matrix multiplication"
   ]
  },
  {
   "cell_type": "code",
   "execution_count": 24,
   "metadata": {},
   "outputs": [
    {
     "name": "stdout",
     "output_type": "stream",
     "text": [
      "36\n",
      "[10 12 14]\n",
      "[16  3 17]\n",
      "4.0\n",
      "[3.33333333 4.         4.66666667]\n",
      "[5.33333333 1.         5.66666667]\n",
      "2.788866755113585\n",
      "[2.62466929 2.1602469  3.29983165]\n",
      "[2.86744176 0.         1.24721913]\n",
      "4.0\n",
      "[2. 5. 4.]\n",
      "[5. 1. 6.]\n"
     ]
    }
   ],
   "source": [
    "print(x.sum())            #sum of all elements\n",
    "print(x.sum(axis = 0))    #sum of each column\n",
    "print(x.sum(axis=1))      #sum of each row\n",
    "print(x.mean())           #mean of all the elements\n",
    "print(x.mean(axis=0))     #mean of each column\n",
    "print(x.mean(axis=1))     #mean of each rows\n",
    "print(x.std())            #standard deviation of all elements\n",
    "print(x.std(axis=0))      #standard deviation of each column\n",
    "print(x.std(axis=1))      #standard deviation of each rows\n",
    "print(np.median(x))       #median of all elements\n",
    "print(np.median(x,axis=0))#median of each column\n",
    "print(np.median(x,axis=1))#median of each rows"
   ]
  },
  {
   "cell_type": "code",
   "execution_count": 25,
   "metadata": {},
   "outputs": [],
   "source": [
    "import matplotlib.pyplot as plt"
   ]
  },
  {
   "cell_type": "code",
   "execution_count": 26,
   "metadata": {},
   "outputs": [],
   "source": [
    "t = np.linspace(0, 2*np.pi, 100)\n",
    "y = np.sin(t)"
   ]
  },
  {
   "cell_type": "code",
   "execution_count": 27,
   "metadata": {},
   "outputs": [
    {
     "data": {
      "text/plain": [
       "0.1411200080598672"
      ]
     },
     "execution_count": 27,
     "metadata": {},
     "output_type": "execute_result"
    }
   ],
   "source": [
    "np.sin(3)"
   ]
  },
  {
   "cell_type": "code",
   "execution_count": 28,
   "metadata": {},
   "outputs": [
    {
     "data": {
      "text/plain": [
       "[<matplotlib.lines.Line2D at 0x20191ad8730>]"
      ]
     },
     "execution_count": 28,
     "metadata": {},
     "output_type": "execute_result"
    },
    {
     "data": {
      "image/png": "[encoded data removed]",
      "text/plain": [
       "<Figure size 640x480 with 1 Axes>"
      ]
     },
     "metadata": {},
     "output_type": "display_data"
    }
   ],
   "source": [
    "plt.plot(t, y)"
   ]
  },
  {
   "cell_type": "code",
   "execution_count": 29,
   "metadata": {},
   "outputs": [
    {
     "data": {
      "image/png": "[encoded data removed]",
      "text/plain": [
       "<Figure size 640x480 with 1 Axes>"
      ]
     },
     "metadata": {},
     "output_type": "display_data"
    }
   ],
   "source": [
    "t = np.linspace(0, 4*np.pi, 100)   #100 is for the distance\n",
    "y = np.sin(t)\n",
    "x = np.cos(t)\n",
    "plt.plot(t, y)\n",
    "plt.plot(t,x, 'ro')         #shortcut for color r for red and o for circle \n",
    "plt.show()"
   ]
  },
  {
   "cell_type": "code",
   "execution_count": 30,
   "metadata": {},
   "outputs": [
    {
     "data": {
      "text/plain": [
       "<BarContainer object of 12 artists>"
      ]
     },
     "execution_count": 30,
     "metadata": {},
     "output_type": "execute_result"
    },
    {
     "data": {
      "image/png": "[encoded data removed]",
      "text/plain": [
       "<Figure size 640x480 with 1 Axes>"
      ]
     },
     "metadata": {},
     "output_type": "display_data"
    }
   ],
   "source": [
    "rainfall = [20,30,40,50,60,70,80,90,100,120,130,50]\n",
    "months = ['Jan', 'Feb', 'Mar', 'Apr', 'May', 'Jun', 'Jul', 'Aug', 'Sep', 'oct', 'Nov', 'Dec']\n",
    "plt.bar(months, rainfall)"
   ]
  },
  {
   "cell_type": "code",
   "execution_count": 31,
   "metadata": {},
   "outputs": [
    {
     "name": "stdout",
     "output_type": "stream",
     "text": [
      "[[940 888 500 837 712]\n",
      " [ 86 321 124 396 420]\n",
      " [446   2 720 854 606]\n",
      " [360 625 949 206 463]\n",
      " [194 627 114 149 763]]\n"
     ]
    }
   ],
   "source": [
    "\n",
    "data = np.random.randint(1,1000,(5,5))\n",
    "print(data)"
   ]
  },
  {
   "cell_type": "code",
   "execution_count": 32,
   "metadata": {},
   "outputs": [
    {
     "name": "stdout",
     "output_type": "stream",
     "text": [
      "86 321 124 396 420 446 2 360 206 463 194 114 149 "
     ]
    }
   ],
   "source": [
    "# noob way for getting the filtered data\n",
    "\n",
    "for i in data:\n",
    "    for j in i:\n",
    "        if j < 500:\n",
    "            print(j, end=' ')"
   ]
  },
  {
   "cell_type": "code",
   "execution_count": 33,
   "metadata": {},
   "outputs": [
    {
     "data": {
      "text/plain": [
       "array([[False, False, False, False, False],\n",
       "       [ True,  True,  True,  True,  True],\n",
       "       [ True,  True, False, False, False],\n",
       "       [ True, False, False,  True,  True],\n",
       "       [ True, False,  True,  True, False]])"
      ]
     },
     "execution_count": 33,
     "metadata": {},
     "output_type": "execute_result"
    }
   ],
   "source": [
    "# pythonic way \n",
    "data < 500 # boolean array"
   ]
  },
  {
   "cell_type": "code",
   "execution_count": 34,
   "metadata": {},
   "outputs": [
    {
     "data": {
      "text/plain": [
       "array([86,  2])"
      ]
     },
     "execution_count": 34,
     "metadata": {},
     "output_type": "execute_result"
    }
   ],
   "source": [
    "data[data <100]"
   ]
  },
  {
   "cell_type": "code",
   "execution_count": 35,
   "metadata": {},
   "outputs": [
    {
     "data": {
      "text/plain": [
       "array([940, 888, 837, 712,  86,   2, 720, 854, 606, 625, 949, 627, 763])"
      ]
     },
     "execution_count": 35,
     "metadata": {},
     "output_type": "execute_result"
    }
   ],
   "source": [
    "data[(data <100) | (data > 500)]"
   ]
  },
  {
   "cell_type": "code",
   "execution_count": 36,
   "metadata": {},
   "outputs": [
    {
     "data": {
      "text/plain": [
       "array([[940, 888, 500, 837, 712],\n",
       "       [ 86, 321, 124, 396, 420],\n",
       "       [446,   2, 720, 854, 606],\n",
       "       [360, 625, 949, 206, 463],\n",
       "       [194, 627, 114, 149, 763]])"
      ]
     },
     "execution_count": 36,
     "metadata": {},
     "output_type": "execute_result"
    }
   ],
   "source": [
    "data"
   ]
  },
  {
   "cell_type": "markdown",
   "metadata": {},
   "source": [
    "#####\n",
    "s rows , 5 cols\n",
    "x[:5,:5]\n",
    "\n",
    "all rows , col 3, 6, 7\n",
    "x[:, [3,6,7]]\n",
    "\n",
    "x[2:-2,2:-2]\n",
    "x[:, :-1]\n"
   ]
  },
  {
   "cell_type": "markdown",
   "metadata": {},
   "source": []
  }
 ],
 "metadata": {
  "kernelspec": {
   "display_name": "Python 3.9.12 ('base')",
   "language": "python",
   "name": "python3"
  },
  "language_info": {
   "codemirror_mode": {
    "name": "ipython",
    "version": 3
   },
   "file_extension": ".py",
   "mimetype": "text/x-python",
   "name": "python",
   "nbconvert_exporter": "python",
   "pygments_lexer": "ipython3",
   "version": "3.9.16"
  },
  "orig_nbformat": 4,
  "vscode": {
   "interpreter": {
    "hash": "0246becbc0580ec6251096932d85934390c628b5019733df881ac9071521ec5e"
   }
  }
 },
 "nbformat": 4,
 "nbformat_minor": 2
}
