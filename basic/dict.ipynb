{
 "cells": [
  {
   "cell_type": "code",
   "execution_count": 1,
   "metadata": {},
   "outputs": [],
   "source": [
    "emp = [\"Amar\", \"deep\", \"fianance\", 2300, 10000, 30000, 31, True, False, \"Acme\"]\n"
   ]
  },
  {
   "cell_type": "code",
   "execution_count": 2,
   "metadata": {},
   "outputs": [],
   "source": [
    "emp_dict = {'fname':'Amar',\n",
    "'lname':'deep',\n",
    "'dept':'finance',\n",
    "'age':31,\n",
    "'salary': 100000,\n",
    "'bonus':12300,\n",
    "'is_manager':True,\n",
    "'is_executive':False,\n",
    "'company':'Acme'}"
   ]
  },
  {
   "cell_type": "code",
   "execution_count": 3,
   "metadata": {},
   "outputs": [
    {
     "name": "stdout",
     "output_type": "stream",
     "text": [
      "{'fname': 'Amar', 'lname': 'deep', 'dept': 'finance', 'age': 31, 'salary': 100000, 'bonus': 12300, 'is_manager': True, 'is_executive': False, 'company': 'Acme'}\n"
     ]
    }
   ],
   "source": [
    "print(emp_dict)"
   ]
  },
  {
   "cell_type": "code",
   "execution_count": 4,
   "metadata": {},
   "outputs": [],
   "source": [
    "# complex data\n",
    "weather_data ={ \n",
    "'date':'2019-01-01',\n",
    "'temp':32,\n",
    "'details':{\n",
    "    'humidity':80,\n",
    "    'wind':10,\n",
    "    'pressure':30,\n",
    "    'aqi':120\n",
    "},\n",
    "'city':'Lucknow',\n",
    "'type':'sunshine',\n",
    "'icon':'☀️'# windows + . for emoji\n",
    "}\n"
   ]
  },
  {
   "cell_type": "markdown",
   "metadata": {},
   "source": [
    "### accessing data from dict"
   ]
  },
  {
   "cell_type": "code",
   "execution_count": 5,
   "metadata": {},
   "outputs": [
    {
     "data": {
      "text/plain": [
       "{'date': '2019-01-01',\n",
       " 'temp': 32,\n",
       " 'details': {'humidity': 80, 'wind': 10, 'pressure': 30, 'aqi': 120},\n",
       " 'city': 'Lucknow',\n",
       " 'type': 'sunshine',\n",
       " 'icon': '☀️'}"
      ]
     },
     "execution_count": 5,
     "metadata": {},
     "output_type": "execute_result"
    }
   ],
   "source": [
    "weather_data"
   ]
  },
  {
   "cell_type": "code",
   "execution_count": 6,
   "metadata": {},
   "outputs": [
    {
     "data": {
      "text/plain": [
       "dict_keys(['date', 'temp', 'details', 'city', 'type', 'icon'])"
      ]
     },
     "execution_count": 6,
     "metadata": {},
     "output_type": "execute_result"
    }
   ],
   "source": [
    "# keys function find keys in the dict\n",
    "weather_data.keys()"
   ]
  },
  {
   "cell_type": "code",
   "execution_count": 7,
   "metadata": {},
   "outputs": [
    {
     "data": {
      "text/plain": [
       "dict_values(['2019-01-01', 32, {'humidity': 80, 'wind': 10, 'pressure': 30, 'aqi': 120}, 'Lucknow', 'sunshine', '☀️'])"
      ]
     },
     "execution_count": 7,
     "metadata": {},
     "output_type": "execute_result"
    }
   ],
   "source": [
    "# values function are find the values in the dict\n",
    "weather_data.values()"
   ]
  },
  {
   "cell_type": "code",
   "execution_count": 8,
   "metadata": {},
   "outputs": [
    {
     "data": {
      "text/plain": [
       "['2019-01-01',\n",
       " 32,\n",
       " {'humidity': 80, 'wind': 10, 'pressure': 30, 'aqi': 120},\n",
       " 'Lucknow',\n",
       " 'sunshine',\n",
       " '☀️']"
      ]
     },
     "execution_count": 8,
     "metadata": {},
     "output_type": "execute_result"
    }
   ],
   "source": [
    "# to convert data into list \n",
    "list(weather_data.values())"
   ]
  },
  {
   "cell_type": "code",
   "execution_count": 9,
   "metadata": {},
   "outputs": [
    {
     "data": {
      "text/plain": [
       "32"
      ]
     },
     "execution_count": 9,
     "metadata": {},
     "output_type": "execute_result"
    }
   ],
   "source": [
    "# to print a particular data in dict\n",
    "weather_data['temp']"
   ]
  },
  {
   "cell_type": "code",
   "execution_count": 10,
   "metadata": {},
   "outputs": [
    {
     "data": {
      "text/plain": [
       "'Lucknow'"
      ]
     },
     "execution_count": 10,
     "metadata": {},
     "output_type": "execute_result"
    }
   ],
   "source": [
    "weather_data['city']"
   ]
  },
  {
   "cell_type": "code",
   "execution_count": 11,
   "metadata": {},
   "outputs": [
    {
     "data": {
      "text/plain": [
       "32"
      ]
     },
     "execution_count": 11,
     "metadata": {},
     "output_type": "execute_result"
    }
   ],
   "source": [
    "weather_data.get('temp') # get function are used to find the data in dict if fata is not present it dosen't give a error"
   ]
  },
  {
   "cell_type": "code",
   "execution_count": 12,
   "metadata": {},
   "outputs": [],
   "source": [
    "weather_data.get('location')"
   ]
  },
  {
   "cell_type": "code",
   "execution_count": 13,
   "metadata": {},
   "outputs": [
    {
     "data": {
      "text/plain": [
       "'not found'"
      ]
     },
     "execution_count": 13,
     "metadata": {},
     "output_type": "execute_result"
    }
   ],
   "source": [
    "weather_data.get('location','not found')"
   ]
  },
  {
   "cell_type": "code",
   "execution_count": 14,
   "metadata": {},
   "outputs": [
    {
     "name": "stdout",
     "output_type": "stream",
     "text": [
      "fname => Amar\n",
      "lname => deep\n",
      "dept => finance\n",
      "age => 31\n",
      "salary => 100000\n",
      "bonus => 12300\n",
      "is_manager => True\n",
      "is_executive => False\n",
      "company => Acme\n"
     ]
    }
   ],
   "source": [
    "# looping over dictionary\n",
    "for k in emp_dict:\n",
    "    print(k,'=>',emp_dict[k]) # extracting value in keys "
   ]
  },
  {
   "cell_type": "code",
   "execution_count": 15,
   "metadata": {},
   "outputs": [
    {
     "name": "stdout",
     "output_type": "stream",
     "text": [
      "fname => Amar\n",
      "lname => deep\n",
      "dept => finance\n",
      "age => 31\n",
      "salary => 100000\n",
      "bonus => 12300\n",
      "is_manager => True\n",
      "is_executive => False\n",
      "company => Acme\n"
     ]
    }
   ],
   "source": [
    "# looping over a dictionary using items()\n",
    "for k,v in emp_dict.items():\n",
    "    print(k,'=>',v)"
   ]
  },
  {
   "cell_type": "code",
   "execution_count": 16,
   "metadata": {},
   "outputs": [],
   "source": [
    "weather_data['temp'] = 35"
   ]
  },
  {
   "cell_type": "code",
   "execution_count": 17,
   "metadata": {},
   "outputs": [
    {
     "data": {
      "text/plain": [
       "{'date': '2019-01-01',\n",
       " 'temp': 35,\n",
       " 'details': {'humidity': 80, 'wind': 10, 'pressure': 30, 'aqi': 120},\n",
       " 'city': 'Lucknow',\n",
       " 'type': 'sunshine',\n",
       " 'icon': '☀️'}"
      ]
     },
     "execution_count": 17,
     "metadata": {},
     "output_type": "execute_result"
    }
   ],
   "source": [
    "weather_data"
   ]
  },
  {
   "cell_type": "code",
   "execution_count": 18,
   "metadata": {},
   "outputs": [
    {
     "name": "stdout",
     "output_type": "stream",
     "text": [
      "{'fname': 'Amar', 'lname': 'deep', 'dept': 'finance', 'age': 31, 'salary': 100000, 'bonus': 12300, 'is_manager': True, 'is_executive': False, 'company': 'Acme', 'desingation': 'Asst A'}\n"
     ]
    }
   ],
   "source": [
    "#adding data \n",
    "emp_dict['desingation'] = 'Asst A'\n",
    "print(emp_dict)"
   ]
  },
  {
   "cell_type": "code",
   "execution_count": 19,
   "metadata": {},
   "outputs": [
    {
     "name": "stdout",
     "output_type": "stream",
     "text": [
      "{'fname': 'Amar', 'lname': 'deep', 'dept': 'finance', 'age': 31, 'salary': 500000, 'bonus': 12300, 'is_manager': True, 'is_executive': False, 'company': 'Acme', 'desingation': 'Section Manager'}\n"
     ]
    }
   ],
   "source": [
    "# updating data\n",
    "emp_dict['desingation'] = 'Section Manager'\n",
    "#print(emp_dict)\n",
    "emp_dict['salary'] = 500000\n",
    "print(emp_dict)\n"
   ]
  },
  {
   "cell_type": "code",
   "execution_count": 20,
   "metadata": {},
   "outputs": [
    {
     "data": {
      "text/plain": [
       "('date', 'temp', 'details', 'city', 'type', 'icon')"
      ]
     },
     "execution_count": 20,
     "metadata": {},
     "output_type": "execute_result"
    }
   ],
   "source": [
    "tuple(weather_data)"
   ]
  },
  {
   "cell_type": "code",
   "execution_count": 21,
   "metadata": {},
   "outputs": [
    {
     "name": "stdout",
     "output_type": "stream",
     "text": [
      "{'fname': 'Amar', 'lname': 'deep', 'dept': 'finance', 'age': 31, 'salary': 500000, 'bonus': 12300, 'is_manager': True, 'company': 'Acme', 'desingation': 'Section Manager'}\n"
     ]
    }
   ],
   "source": [
    "# remove the data\n",
    "if 'is_executive' in emp_dict: \n",
    "    emp_dict.pop('is_executive') # remve an entry\n",
    "print(emp_dict)\n"
   ]
  },
  {
   "cell_type": "code",
   "execution_count": 22,
   "metadata": {},
   "outputs": [],
   "source": [
    "reports = {\n",
    "    '001':{\n",
    "        'Name':'Amar',\n",
    "        'subjects':{'English':80, 'Maths':90, 'Science':85}\n",
    "    },\n",
    "    '002':{\n",
    "        'Name': 'Vijay',\n",
    "        'subjects':{'English':70, 'Maths':60, 'Science':85}\n",
    "    },\n",
    "    '003':{\n",
    "        'Name':'Sonu',\n",
    "        'subjects':{'English':90, 'Maths':66, 'Science':75}\n",
    "    },\n",
    "    '004':{\n",
    "        'Name':'Vrishi',\n",
    "        'subjects':{'English':95, 'Maths':68, 'Science':79}\n",
    "    }    \n",
    "}\n"
   ]
  },
  {
   "cell_type": "code",
   "execution_count": 23,
   "metadata": {},
   "outputs": [
    {
     "name": "stdout",
     "output_type": "stream",
     "text": [
      "Roll no. 001\n",
      "Name Amar\n",
      "--------------------\n",
      "subjects\n",
      "English 80\n",
      "Total: 80/300\n",
      "percentage: 26.67%\n",
      "Maths 90\n",
      "Total: 170/300\n",
      "percentage: 56.67%\n",
      "Science 85\n",
      "Total: 255/300\n",
      "percentage: 85.00%\n",
      "--------------------\n",
      "Roll no. 002\n",
      "Name Vijay\n",
      "--------------------\n",
      "subjects\n",
      "English 70\n",
      "Total: 70/300\n",
      "percentage: 23.33%\n",
      "Maths 60\n",
      "Total: 130/300\n",
      "percentage: 43.33%\n",
      "Science 85\n",
      "Total: 215/300\n",
      "percentage: 71.67%\n",
      "--------------------\n",
      "Roll no. 003\n",
      "Name Sonu\n",
      "--------------------\n",
      "subjects\n",
      "English 90\n",
      "Total: 90/300\n",
      "percentage: 30.00%\n",
      "Maths 66\n",
      "Total: 156/300\n",
      "percentage: 52.00%\n",
      "Science 75\n",
      "Total: 231/300\n",
      "percentage: 77.00%\n",
      "--------------------\n",
      "Roll no. 004\n",
      "Name Vrishi\n",
      "--------------------\n",
      "subjects\n",
      "English 95\n",
      "Total: 95/300\n",
      "percentage: 31.67%\n",
      "Maths 68\n",
      "Total: 163/300\n",
      "percentage: 54.33%\n",
      "Science 79\n",
      "Total: 242/300\n",
      "percentage: 80.67%\n",
      "--------------------\n"
     ]
    }
   ],
   "source": [
    "for roll, data in reports.items():\n",
    "    print(\"Roll no.\",roll)\n",
    "    for key, val in data.items():\n",
    "        if isinstance(val,dict):\n",
    "            print(key)\n",
    "            total = 0 # before loop set total marks to 0\n",
    "            for sub, marks in val.items():\n",
    "                print(sub,marks)\n",
    "                total += marks # add marks to tatal\n",
    "                print(f'Total: {total}/300') # display\n",
    "                print(f'percentage: {total/300*100:.2f}%')\n",
    "        else:\n",
    "            print(key,val)\n",
    "        print('--'*10)\n",
    "    "
   ]
  },
  {
   "cell_type": "markdown",
   "metadata": {},
   "source": [
    "##### file Handling"
   ]
  },
  {
   "cell_type": "markdown",
   "metadata": {},
   "source": [
    "###### \n",
    "-open a file\n",
    "-reading a file\n",
    "-writing a file\n",
    "-appending a file"
   ]
  },
  {
   "cell_type": "code",
   "execution_count": 24,
   "metadata": {},
   "outputs": [
    {
     "name": "stdout",
     "output_type": "stream",
     "text": [
      "print(\"hello world\")\n",
      "\n",
      "\n"
     ]
    }
   ],
   "source": [
    "f = open('hello.py')\n",
    "print(f.read())"
   ]
  },
  {
   "cell_type": "code",
   "execution_count": 25,
   "metadata": {},
   "outputs": [
    {
     "name": "stdout",
     "output_type": "stream",
     "text": [
      "23 characters\n",
      "\n"
     ]
    }
   ],
   "source": [
    "d = open(r'D:\\abcd\\vk.txt')\n",
    "content = d.read()\n",
    "print(f'{len(content)} characters')\n",
    "print(d.read())"
   ]
  },
  {
   "cell_type": "code",
   "execution_count": 26,
   "metadata": {},
   "outputs": [],
   "source": [
    "data = 'hi everyone, this is a sample file'\n",
    "with open('mydata.txt', 'w') as file: # write a data in file\n",
    "    file.write(data)"
   ]
  },
  {
   "cell_type": "code",
   "execution_count": 27,
   "metadata": {},
   "outputs": [],
   "source": [
    "data = '\\nhi everyone, this is a sample file'\n",
    "with open('mydata.txt', 'a') as file: # write a another data in file\n",
    "    file.write(data)"
   ]
  },
  {
   "cell_type": "code",
   "execution_count": 28,
   "metadata": {},
   "outputs": [
    {
     "name": "stdout",
     "output_type": "stream",
     "text": [
      "filebio.txt saved\n"
     ]
    }
   ],
   "source": [
    "file = 'bio.txt'\n",
    "content = ''\n",
    "while True:\n",
    "    line = input('Enter a line (or q to quit):')\n",
    "    if line == 'q':\n",
    "        break\n",
    "    content += line + '\\n'\n",
    "with open(file, 'w') as f:\n",
    "    f.write(content)\n",
    "    print(f'file{file} saved')\n"
   ]
  },
  {
   "cell_type": "code",
   "execution_count": null,
   "metadata": {},
   "outputs": [],
   "source": []
  }
 ],
 "metadata": {
  "kernelspec": {
   "display_name": "Python 3.9.12 ('base')",
   "language": "python",
   "name": "python3"
  },
  "language_info": {
   "codemirror_mode": {
    "name": "ipython",
    "version": 3
   },
   "file_extension": ".py",
   "mimetype": "text/x-python",
   "name": "python",
   "nbconvert_exporter": "python",
   "pygments_lexer": "ipython3",
   "version": "3.9.16"
  },
  "orig_nbformat": 4,
  "vscode": {
   "interpreter": {
    "hash": "0246becbc0580ec6251096932d85934390c628b5019733df881ac9071521ec5e"
   }
  }
 },
 "nbformat": 4,
 "nbformat_minor": 2
}
