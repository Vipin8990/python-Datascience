{
 "cells": [
  {
   "cell_type": "markdown",
   "metadata": {},
   "source": [
    "### getting a slice "
   ]
  },
  {
   "cell_type": "code",
   "execution_count": 1,
   "metadata": {},
   "outputs": [
    {
     "name": "stdout",
     "output_type": "stream",
     "text": [
      "pod\n"
     ]
    }
   ],
   "source": [
    "s = 'digipodium'\n",
    "slice1 = s[4:7]\n",
    "print(slice1)"
   ]
  },
  {
   "cell_type": "code",
   "execution_count": 5,
   "metadata": {},
   "outputs": [
    {
     "name": "stdout",
     "output_type": "stream",
     "text": [
      "l\n",
      "19\n"
     ]
    }
   ],
   "source": [
    "name = 'william shakespeare'\n",
    "print(name[2:3])\n",
    "print(len(name))"
   ]
  },
  {
   "cell_type": "code",
   "execution_count": 6,
   "metadata": {},
   "outputs": [
    {
     "name": "stdout",
     "output_type": "stream",
     "text": [
      "0 w\n",
      "1 i\n",
      "2 l\n",
      "3 l\n",
      "4 i\n",
      "5 a\n",
      "6 m\n",
      "7  \n",
      "8 s\n",
      "9 h\n",
      "10 a\n",
      "11 k\n",
      "12 e\n",
      "13 s\n",
      "14 p\n",
      "15 e\n",
      "16 a\n",
      "17 r\n",
      "18 e\n"
     ]
    }
   ],
   "source": [
    "for idx,char in enumerate(name):\n",
    "    print(idx, char)"
   ]
  },
  {
   "cell_type": "code",
   "execution_count": 7,
   "metadata": {},
   "outputs": [
    {
     "name": "stdout",
     "output_type": "stream",
     "text": [
      "shake\n"
     ]
    }
   ],
   "source": [
    "print(name[8:13])"
   ]
  },
  {
   "cell_type": "code",
   "execution_count": 8,
   "metadata": {},
   "outputs": [
    {
     "name": "stdout",
     "output_type": "stream",
     "text": [
      "pear\n"
     ]
    }
   ],
   "source": [
    "print(name[-5:-1])"
   ]
  },
  {
   "cell_type": "code",
   "execution_count": 9,
   "metadata": {},
   "outputs": [
    {
     "name": "stdout",
     "output_type": "stream",
     "text": [
      "william\n"
     ]
    }
   ],
   "source": [
    "print(name[0:7])"
   ]
  },
  {
   "cell_type": "code",
   "execution_count": 10,
   "metadata": {},
   "outputs": [
    {
     "name": "stdout",
     "output_type": "stream",
     "text": [
      " shakespeare\n"
     ]
    }
   ],
   "source": [
    "print(name[7:len(name)])"
   ]
  },
  {
   "cell_type": "code",
   "execution_count": 12,
   "metadata": {},
   "outputs": [
    {
     "name": "stdout",
     "output_type": "stream",
     "text": [
      "william shakes\n",
      "e\n"
     ]
    }
   ],
   "source": [
    "print(name[0:-5])\n",
    "print(name[-1:len(name)])"
   ]
  },
  {
   "cell_type": "markdown",
   "metadata": {},
   "source": [
    "### var[start:stop:step]"
   ]
  },
  {
   "cell_type": "code",
   "execution_count": 13,
   "metadata": {},
   "outputs": [
    {
     "name": "stdout",
     "output_type": "stream",
     "text": [
      "wlimsaepae\n"
     ]
    }
   ],
   "source": [
    "# all the even characters of string\n",
    "print(name[::2])"
   ]
  },
  {
   "cell_type": "code",
   "execution_count": 16,
   "metadata": {},
   "outputs": [
    {
     "name": "stdout",
     "output_type": "stream",
     "text": [
      "ila hkser\n"
     ]
    }
   ],
   "source": [
    "# all the odd characters of string\n",
    "print(name[1::2])"
   ]
  },
  {
   "cell_type": "code",
   "execution_count": 17,
   "metadata": {},
   "outputs": [
    {
     "name": "stdout",
     "output_type": "stream",
     "text": [
      "eraepsekahs mailliw\n"
     ]
    }
   ],
   "source": [
    "# reverse the string \n",
    "print(name[::-1])"
   ]
  },
  {
   "cell_type": "code",
   "execution_count": 18,
   "metadata": {},
   "outputs": [
    {
     "name": "stdout",
     "output_type": "stream",
     "text": [
      "eapeasmilw\n"
     ]
    }
   ],
   "source": [
    "# jump three characters in the string\n",
    "print(name[::-2])"
   ]
  },
  {
   "cell_type": "code",
   "execution_count": 19,
   "metadata": {},
   "outputs": [
    {
     "name": "stdout",
     "output_type": "stream",
     "text": [
      "lliam shakespea\n"
     ]
    }
   ],
   "source": [
    "print(name[2:-2])"
   ]
  },
  {
   "cell_type": "code",
   "execution_count": 20,
   "metadata": {},
   "outputs": [
    {
     "name": "stdout",
     "output_type": "stream",
     "text": [
      "eraepsekahs mailliw\n"
     ]
    }
   ],
   "source": [
    "print(name[::-1])"
   ]
  },
  {
   "cell_type": "code",
   "execution_count": 21,
   "metadata": {},
   "outputs": [
    {
     "name": "stdout",
     "output_type": "stream",
     "text": [
      "race\n"
     ]
    }
   ],
   "source": [
    "word = 'racecar'\n",
    "print(word[:-3])"
   ]
  },
  {
   "cell_type": "code",
   "execution_count": 23,
   "metadata": {},
   "outputs": [
    {
     "name": "stdout",
     "output_type": "stream",
     "text": [
      "牵\n"
     ]
    }
   ],
   "source": [
    "chr(59)\n",
    "print(chr(29301))"
   ]
  },
  {
   "cell_type": "code",
   "execution_count": 25,
   "metadata": {},
   "outputs": [
    {
     "name": "stdout",
     "output_type": "stream",
     "text": [
      "඀\n"
     ]
    }
   ],
   "source": [
    "print(chr(3456))"
   ]
  },
  {
   "cell_type": "code",
   "execution_count": 26,
   "metadata": {},
   "outputs": [
    {
     "name": "stdout",
     "output_type": "stream",
     "text": [
      "65\n"
     ]
    }
   ],
   "source": [
    "y = ord('A')\n",
    "print(y)"
   ]
  },
  {
   "cell_type": "code",
   "execution_count": 27,
   "metadata": {},
   "outputs": [
    {
     "name": "stdout",
     "output_type": "stream",
     "text": [
      "97\n"
     ]
    }
   ],
   "source": [
    "y = ord('a')\n",
    "print(y)"
   ]
  },
  {
   "cell_type": "code",
   "execution_count": 28,
   "metadata": {},
   "outputs": [
    {
     "name": "stdout",
     "output_type": "stream",
     "text": [
      "123\n"
     ]
    }
   ],
   "source": [
    "y = ord('{')\n",
    "print(y)"
   ]
  },
  {
   "cell_type": "markdown",
   "metadata": {},
   "source": [
    "### concatenation"
   ]
  },
  {
   "cell_type": "code",
   "execution_count": 29,
   "metadata": {},
   "outputs": [
    {
     "name": "stdout",
     "output_type": "stream",
     "text": [
      "thisisAmazing\n"
     ]
    }
   ],
   "source": [
    "w1 = 'this'\n",
    "w2 = 'is'\n",
    "w3 = 'Amazing'\n",
    "msg = w1 + w2 +w3\n",
    "print(msg)"
   ]
  },
  {
   "cell_type": "code",
   "execution_count": 31,
   "metadata": {},
   "outputs": [
    {
     "name": "stdout",
     "output_type": "stream",
     "text": [
      "this is Amazing\n"
     ]
    }
   ],
   "source": [
    "msg = w1 + ' ' + w2 + ' ' + w3 \n",
    "print(msg)"
   ]
  },
  {
   "cell_type": "code",
   "execution_count": 34,
   "metadata": {},
   "outputs": [
    {
     "name": "stdout",
     "output_type": "stream",
     "text": [
      "applejuice\n"
     ]
    }
   ],
   "source": [
    "a = 'apple'\n",
    "b = 'juice'\n",
    "ab = a+b\n",
    "print(ab)"
   ]
  },
  {
   "cell_type": "markdown",
   "metadata": {},
   "source": [
    "### duplication"
   ]
  },
  {
   "cell_type": "code",
   "execution_count": 36,
   "metadata": {},
   "outputs": [
    {
     "name": "stdout",
     "output_type": "stream",
     "text": [
      " hii  hii  hii  hii \n"
     ]
    }
   ],
   "source": [
    "word = ' hii '\n",
    "print(word*4)"
   ]
  },
  {
   "cell_type": "code",
   "execution_count": 39,
   "metadata": {},
   "outputs": [
    {
     "name": "stdout",
     "output_type": "stream",
     "text": [
      "-X--X--X--X--X--X--X--X--X--X-\n",
      "  Journey Before Destination  \n",
      "-X--X--X--X--X--X--X--X--X--X-\n"
     ]
    }
   ],
   "source": [
    "print('-X-'*10)\n",
    "print('Journey Before Destination'.center(30))\n",
    "print('-X-'*10)"
   ]
  },
  {
   "cell_type": "markdown",
   "metadata": {},
   "source": [
    "### pattern printing  "
   ]
  },
  {
   "cell_type": "code",
   "execution_count": 40,
   "metadata": {},
   "outputs": [
    {
     "name": "stdout",
     "output_type": "stream",
     "text": [
      " * \n",
      " *  * \n",
      " *  *  * \n",
      " *  *  *  * \n",
      " *  *  *  *  * \n"
     ]
    }
   ],
   "source": [
    "for i in range(1,6):\n",
    "    print(i * ' * ')"
   ]
  },
  {
   "cell_type": "code",
   "execution_count": 44,
   "metadata": {},
   "outputs": [
    {
     "name": "stdout",
     "output_type": "stream",
     "text": [
      "                                 *                                  \n",
      "                              *  *  *                               \n",
      "                           *  *  *  *  *                            \n",
      "                        *  *  *  *  *  *  *                         \n",
      "                     *  *  *  *  *  *  *  *  *                      \n",
      "                  *  *  *  *  *  *  *  *  *  *  *                   \n",
      "               *  *  *  *  *  *  *  *  *  *  *  *  *                \n"
     ]
    }
   ],
   "source": [
    "for i in range(1,15,2):\n",
    "    print((i * ' * ').center(68))"
   ]
  },
  {
   "cell_type": "code",
   "execution_count": 45,
   "metadata": {},
   "outputs": [
    {
     "name": "stdout",
     "output_type": "stream",
     "text": [
      "_____________________ * _____________________\n",
      "__________________ *  *  * __________________\n",
      "_______________ *  *  *  *  * _______________\n",
      "____________ *  *  *  *  *  *  * ____________\n",
      "_________ *  *  *  *  *  *  *  *  * _________\n",
      "______ *  *  *  *  *  *  *  *  *  *  * ______\n",
      "___ *  *  *  *  *  *  *  *  *  *  *  *  * ___\n"
     ]
    }
   ],
   "source": [
    "for i in range(1, 15, 2):\n",
    "    print((i * ' * ').center(45,'_'))"
   ]
  },
  {
   "cell_type": "code",
   "execution_count": 51,
   "metadata": {},
   "outputs": [
    {
     "name": "stdout",
     "output_type": "stream",
     "text": [
      "------------------ #  #  # ------------------\n"
     ]
    }
   ],
   "source": [
    "\n",
    "for i in range(3,15,45):\n",
    "    print((i * ' # ').center(45, '-'))"
   ]
  },
  {
   "cell_type": "code",
   "execution_count": 3,
   "metadata": {},
   "outputs": [
    {
     "name": "stdout",
     "output_type": "stream",
     "text": [
      "                                  *                                   \n",
      "                                 000                                  \n",
      "                                *****                                 \n",
      "                               0000000                                \n",
      "                              *********                               \n",
      "                             00000000000                              \n",
      "                            *************                             \n"
     ]
    }
   ],
   "source": [
    "for i in range (1,15,2):\n",
    "    if i==1 or i==5 or i==9 or i==13:\n",
    "        print(('*'*i).center(70,' '))\n",
    "    else:\n",
    "        print(('0'*i).center(70,' '))\n"
   ]
  },
  {
   "cell_type": "code",
   "execution_count": 2,
   "metadata": {},
   "outputs": [
    {
     "name": "stdout",
     "output_type": "stream",
     "text": [
      "        * \n",
      "      * * \n",
      "    * * * \n",
      "  * * * * \n",
      "* * * * * \n"
     ]
    }
   ],
   "source": [
    "def pypart2(n):\n",
    "     \n",
    "    \n",
    "    k = 2*n - 2\n",
    " \n",
    "    for i in range(0, n):\n",
    "     \n",
    "        \n",
    "        for j in range(0, k):\n",
    "            print(end=\" \")\n",
    "     \n",
    "       \n",
    "        k = k - 2\n",
    "     \n",
    "       \n",
    "        for j in range(0, i+1):\n",
    "         \n",
    "            \n",
    "            print(\"* \", end=\"\")\n",
    "     \n",
    "        \n",
    "        print(\"\\r\")\n",
    " \n",
    "\n",
    "n = 5\n",
    "pypart2(n)"
   ]
  },
  {
   "cell_type": "code",
   "execution_count": null,
   "metadata": {},
   "outputs": [],
   "source": [
    "for i in range()"
   ]
  }
 ],
 "metadata": {
  "kernelspec": {
   "display_name": "Python 3.10.6 ('py310')",
   "language": "python",
   "name": "python3"
  },
  "language_info": {
   "codemirror_mode": {
    "name": "ipython",
    "version": 3
   },
   "file_extension": ".py",
   "mimetype": "text/x-python",
   "name": "python",
   "nbconvert_exporter": "python",
   "pygments_lexer": "ipython3",
   "version": "3.10.6"
  },
  "orig_nbformat": 4,
  "vscode": {
   "interpreter": {
    "hash": "5a27dd1bc5aeb260afd410f0c75503fa67b43d3107951c82318bcc5eb645c411"
   }
  }
 },
 "nbformat": 4,
 "nbformat_minor": 2
}
