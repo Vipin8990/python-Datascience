{
 "cells": [
  {
   "cell_type": "code",
   "execution_count": 1,
   "metadata": {},
   "outputs": [
    {
     "name": "stdout",
     "output_type": "stream",
     "text": [
      "hello my friends\n"
     ]
    }
   ],
   "source": [
    "#1\n",
    "a = \"hello my friends\"\n",
    "print(a)"
   ]
  },
  {
   "cell_type": "code",
   "execution_count": 5,
   "metadata": {},
   "outputs": [
    {
     "name": "stdout",
     "output_type": "stream",
     "text": [
      "4\n"
     ]
    }
   ],
   "source": [
    "#2\n",
    "b = input(\"enter a string\")\n",
    "print(len(b))"
   ]
  },
  {
   "cell_type": "code",
   "execution_count": 6,
   "metadata": {},
   "outputs": [
    {
     "name": "stdout",
     "output_type": "stream",
     "text": [
      "t\n"
     ]
    }
   ],
   "source": [
    "#3\n",
    "c = \"python is great\"\n",
    "print(c[-1])"
   ]
  },
  {
   "cell_type": "code",
   "execution_count": 10,
   "metadata": {},
   "outputs": [
    {
     "name": "stdout",
     "output_type": "stream",
     "text": [
      "p\n",
      "y\n",
      "t\n",
      "h\n",
      "o\n",
      "n\n",
      " \n",
      "i\n",
      "s\n",
      " \n",
      "e\n",
      "v\n",
      "e\n",
      "r\n",
      "y\n",
      "w\n",
      "h\n",
      "e\n",
      "r\n",
      "e\n"
     ]
    }
   ],
   "source": [
    "#4\n",
    "d = \"python is everywhere\"\n",
    "for d, char in enumerate(d):\n",
    "    print(char)"
   ]
  },
  {
   "cell_type": "code",
   "execution_count": 11,
   "metadata": {},
   "outputs": [
    {
     "name": "stdout",
     "output_type": "stream",
     "text": [
      "dlrow olleh\n"
     ]
    }
   ],
   "source": [
    "#5\n",
    "e = \"hello world\"\n",
    "print(e[::-1])"
   ]
  },
  {
   "cell_type": "code",
   "execution_count": 12,
   "metadata": {},
   "outputs": [
    {
     "name": "stdout",
     "output_type": "stream",
     "text": [
      "HOW ARE YOU\n"
     ]
    }
   ],
   "source": [
    "#6\n",
    "f = \"how are you\"\n",
    "print(f.upper())"
   ]
  },
  {
   "cell_type": "code",
   "execution_count": 14,
   "metadata": {},
   "outputs": [
    {
     "name": "stdout",
     "output_type": "stream",
     "text": [
      "is it going\n"
     ]
    }
   ],
   "source": [
    "#7\n",
    "g = \"Is it Going\"\n",
    "print(g.lower())"
   ]
  },
  {
   "cell_type": "code",
   "execution_count": 16,
   "metadata": {},
   "outputs": [
    {
     "name": "stdout",
     "output_type": "stream",
     "text": [
      "python-is-easy-to-learn\n"
     ]
    }
   ],
   "source": [
    "#8\n",
    "words = ['python','is','easy','to','learn']\n",
    "print('-'.join(words))"
   ]
  },
  {
   "cell_type": "code",
   "execution_count": 17,
   "metadata": {},
   "outputs": [
    {
     "name": "stdout",
     "output_type": "stream",
     "text": [
      "this is \n",
      "a mutliline\n",
      "string\n"
     ]
    }
   ],
   "source": [
    "#9\n",
    "print(\"\"\"this is \n",
    "a mutliline\n",
    "string\"\"\")"
   ]
  },
  {
   "cell_type": "code",
   "execution_count": 19,
   "metadata": {},
   "outputs": [
    {
     "name": "stdout",
     "output_type": "stream",
     "text": [
      "the variable is 23\n"
     ]
    }
   ],
   "source": [
    "#11\n",
    "var = input(\"enter a variable\")\n",
    "print(\"the variable is\",var)\n"
   ]
  },
  {
   "cell_type": "code",
   "execution_count": 21,
   "metadata": {},
   "outputs": [
    {
     "name": "stdout",
     "output_type": "stream",
     "text": [
      " python is great\n"
     ]
    }
   ],
   "source": [
    "#12\n",
    "s1 = ' python'\n",
    "s2 = ' is'\n",
    "s3 = ' great'\n",
    "w = s1 + s2 + s3\n",
    "print(w)"
   ]
  },
  {
   "cell_type": "code",
   "execution_count": 25,
   "metadata": {},
   "outputs": [
    {
     "name": "stdout",
     "output_type": "stream",
     "text": [
      "\n",
      " @\n",
      " @\n",
      " @\n",
      " @\n",
      " @\n",
      " @\n",
      " @\n",
      " @\n",
      " @\n",
      " @\n",
      " @\n",
      " @\n",
      " @\n",
      " @\n",
      " @\n",
      " @\n",
      " @\n",
      " @\n",
      " @\n",
      " @\n"
     ]
    }
   ],
   "source": [
    "#13\n",
    "print('\\n @'*20)"
   ]
  },
  {
   "cell_type": "code",
   "execution_count": 27,
   "metadata": {},
   "outputs": [
    {
     "name": "stdout",
     "output_type": "stream",
     "text": [
      "1 .\n",
      "2 .\n",
      "3 .\n",
      "4 .\n",
      "5 .\n",
      "6 .\n",
      "7 .\n",
      "8 .\n",
      "9 .\n"
     ]
    }
   ],
   "source": [
    "#14\n",
    "for i in range(1,10):\n",
    "    print(i,'.')\n"
   ]
  },
  {
   "cell_type": "code",
   "execution_count": 30,
   "metadata": {},
   "outputs": [
    {
     "name": "stdout",
     "output_type": "stream",
     "text": [
      "how\n",
      "are\n",
      "you\n"
     ]
    }
   ],
   "source": [
    "#15\n",
    "x = input(\"enter a string\")\n",
    "for word in x.split():\n",
    "    print(word)"
   ]
  },
  {
   "cell_type": "code",
   "execution_count": 2,
   "metadata": {},
   "outputs": [
    {
     "name": "stdout",
     "output_type": "stream",
     "text": [
      "string not ends with ?\n"
     ]
    }
   ],
   "source": [
    "#16\n",
    "z = input(\"enter a string\")\n",
    "if(z[-1]=='?'):\n",
    "    print(\"string ends with ?\")\n",
    "else:\n",
    "    print(\"string not ends with ?\")"
   ]
  },
  {
   "cell_type": "code",
   "execution_count": 1,
   "metadata": {},
   "outputs": [
    {
     "name": "stdout",
     "output_type": "stream",
     "text": [
      "e is appered in the string 1 number of times\n"
     ]
    }
   ],
   "source": [
    "#17\n",
    "txt = input(\"enter a string\")\n",
    "v = txt.count('e')\n",
    "print(\"e is appered in the string\",v,\"number of times\")"
   ]
  },
  {
   "cell_type": "code",
   "execution_count": 4,
   "metadata": {},
   "outputs": [
    {
     "name": "stdout",
     "output_type": "stream",
     "text": [
      "False\n"
     ]
    }
   ],
   "source": [
    "#18\n",
    "num = input(\"enter a number\")\n",
    "print(num.isnumeric())"
   ]
  },
  {
   "cell_type": "code",
   "execution_count": 5,
   "metadata": {},
   "outputs": [
    {
     "data": {
      "text/plain": [
       "'this is not a good string'"
      ]
     },
     "execution_count": 5,
     "metadata": {},
     "output_type": "execute_result"
    }
   ],
   "source": [
    "# 19. remove the extra spaces in beginning and in the end of the following string-\n",
    "text =\"  this is not a good string        \"\n",
    "text.strip()"
   ]
  },
  {
   "cell_type": "code",
   "execution_count": 7,
   "metadata": {},
   "outputs": [
    {
     "name": "stdout",
     "output_type": "stream",
     "text": [
      "found Hello worlD\n"
     ]
    }
   ],
   "source": [
    "#20. worng\n",
    "text2 = \"Hello worlD\"\n",
    "print(\"found \"+str(text2))"
   ]
  },
  {
   "cell_type": "code",
   "execution_count": 8,
   "metadata": {},
   "outputs": [],
   "source": [
    "#21\n",
    "names = \"joe, David, Mark, Tom, Chris\"\n"
   ]
  },
  {
   "cell_type": "code",
   "execution_count": 10,
   "metadata": {},
   "outputs": [
    {
     "name": "stdout",
     "output_type": "stream",
     "text": [
      "['taye', 'haye', 'iaye', 'saye', ' aye', 'iaye', 'saye', ' aye', 'saye', 'oaye', 'maye', 'eaye', ' aye', 'taye', 'eaye', 'xaye', 'taye']\n"
     ]
    }
   ],
   "source": [
    "#22\n",
    "text3 =\"this is some text\"\n",
    "text3 = [x + \"aye\" for x in text3]\n",
    "print(text3)"
   ]
  },
  {
   "cell_type": "code",
   "execution_count": 14,
   "metadata": {},
   "outputs": [
    {
     "name": "stdout",
     "output_type": "stream",
     "text": [
      "yes! it is present in the string\n"
     ]
    }
   ],
   "source": [
    "#23\n",
    "mystring = input(\"enter a string\")\n",
    "if \"fyi\" in mystring:\n",
    "    print(\"yes! it is present in the string\")\n",
    "else:\n",
    "    print(\"No! it is not present\")"
   ]
  },
  {
   "cell_type": "code",
   "execution_count": 15,
   "metadata": {},
   "outputs": [
    {
     "name": "stdout",
     "output_type": "stream",
     "text": [
      "new string: p34yt68hon404\n"
     ]
    }
   ],
   "source": [
    "#24\n",
    "import re\n",
    "text5 = \"%p34@y!*-*!t68h#&on404\"\n",
    "new_string = re.sub(r'[^a-zA-Z0-9]','',text5)\n",
    "print('new string:',new_string) "
   ]
  },
  {
   "cell_type": "code",
   "execution_count": 16,
   "metadata": {},
   "outputs": [
    {
     "name": "stdout",
     "output_type": "stream",
     "text": [
      "4.636363636363637\n"
     ]
    }
   ],
   "source": [
    "#25\n",
    "text6 = \"this is a paragraph which is written just for the purpose of providing cintent to let the average word length be calculated\"\n",
    "words = text6.split()\n",
    "total = sum(map(len,words))/len(words)\n",
    "print(total)"
   ]
  },
  {
   "cell_type": "code",
   "execution_count": 17,
   "metadata": {},
   "outputs": [
    {
     "name": "stdout",
     "output_type": "stream",
     "text": [
      "python is interactive\n",
      " an eassy to leatrn\n",
      " and provide a good interface to interact a system\n"
     ]
    }
   ],
   "source": [
    "#10\n",
    "print(\"python is interactive\\n an eassy to leatrn\\n and provide a good interface to interact a system\")"
   ]
  },
  {
   "cell_type": "code",
   "execution_count": null,
   "metadata": {},
   "outputs": [],
   "source": []
  }
 ],
 "metadata": {
  "kernelspec": {
   "display_name": "Python 3.9.12 ('base')",
   "language": "python",
   "name": "python3"
  },
  "language_info": {
   "codemirror_mode": {
    "name": "ipython",
    "version": 3
   },
   "file_extension": ".py",
   "mimetype": "text/x-python",
   "name": "python",
   "nbconvert_exporter": "python",
   "pygments_lexer": "ipython3",
   "version": "3.9.12"
  },
  "orig_nbformat": 4,
  "vscode": {
   "interpreter": {
    "hash": "0246becbc0580ec6251096932d85934390c628b5019733df881ac9071521ec5e"
   }
  }
 },
 "nbformat": 4,
 "nbformat_minor": 2
}
